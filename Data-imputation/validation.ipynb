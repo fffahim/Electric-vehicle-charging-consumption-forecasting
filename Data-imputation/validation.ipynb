{
 "cells": [
  {
   "cell_type": "code",
   "execution_count": null,
   "metadata": {},
   "outputs": [],
   "source": [
    "def validation_matrix_imputation(real_data, test_data, mask, col):\n",
    "    tr = real_data[:, col]\n",
    "    te = test_data[:, col]\n",
    "    m = mask[:, col]\n",
    "\n",
    "    RMSE = np.sqrt(mean_squared_error((tr * m), (te * m)))\n",
    "    print(f'RMSE:{RMSE}')\n",
    "\n",
    "    mae = mean_absolute_error((tr * m), (te * m))\n",
    "    print(\"MAE:\", mae)\n",
    "\n",
    "    # Mean Squared Error (MSE)\n",
    "    mse = mean_squared_error((tr * m), (te * m))\n",
    "    print(\"MSE:\", mse)\n",
    "\n",
    "    r_squared = r2_score(tr, te)\n",
    "    print(\"R-squared:\", r_squared)"
   ]
  },
  {
   "cell_type": "code",
   "execution_count": null,
   "metadata": {},
   "outputs": [],
   "source": [
    "def validation_matrix_forecasting(real_data, test_data, col):\n",
    "    tr = real_data[:, col]\n",
    "    te = test_data[:, col]\n",
    "\n",
    "    RMSE = np.sqrt(mean_squared_error(tr, te))\n",
    "    print(f'RMSE:{RMSE}')\n",
    "\n",
    "    mae = mean_absolute_error(tr, te)\n",
    "    print(\"MAE:\", mae)\n",
    "\n",
    "    # Mean Squared Error (MSE)\n",
    "    mse = mean_squared_error(tr, te)\n",
    "    print(\"MSE:\", mse)\n",
    "\n",
    "    r_squared = r2_score(tr, te)\n",
    "    print(\"R-squared:\", r_squared)"
   ]
  },
  {
   "cell_type": "code",
   "execution_count": null,
   "metadata": {},
   "outputs": [],
   "source": []
  }
 ],
 "metadata": {
  "kernelspec": {
   "display_name": "base",
   "language": "python",
   "name": "python3"
  },
  "language_info": {
   "codemirror_mode": {
    "name": "ipython",
    "version": 3
   },
   "file_extension": ".py",
   "mimetype": "text/x-python",
   "name": "python",
   "nbconvert_exporter": "python",
   "pygments_lexer": "ipython3",
   "version": "3.9.18"
  }
 },
 "nbformat": 4,
 "nbformat_minor": 2
}
