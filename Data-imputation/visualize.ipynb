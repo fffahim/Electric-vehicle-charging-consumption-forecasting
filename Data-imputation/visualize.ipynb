{
 "cells": [
  {
   "cell_type": "code",
   "execution_count": 2,
   "metadata": {},
   "outputs": [],
   "source": [
    "import numpy as np\n",
    "import pandas as pd\n",
    "import torch\n",
    "import torch.nn as nn\n",
    "import matplotlib.pyplot as mlt\n",
    "from statsmodels.graphics.tsaplots import plot_acf\n",
    "from sklearn.preprocessing import MinMaxScaler"
   ]
  },
  {
   "cell_type": "code",
   "execution_count": 14,
   "metadata": {},
   "outputs": [],
   "source": [
    "def plot_imputation_results(real_dataset, generated_dataset, mask, startindex, endindex, path):\n",
    "\n",
    "    tr = real_dataset[startindex:endindex, 1]\n",
    "    te = generated_dataset[startindex:endindex, 1]\n",
    "    mask1 = mask[startindex:endindex, 1]\n",
    "    te = (mask1 * te) + (1 - mask1) * tr\n",
    "    mlt.figure(figsize=(20, 6))\n",
    "    y = np.arange(1, len(tr) + 1)\n",
    "\n",
    "    start_idx = 0\n",
    "    for i in range(len(te)-1):\n",
    "        color = \"green\"\n",
    "        mlt.plot(y[start_idx:i+2],te[start_idx:i+2], color=color, linewidth = '3')\n",
    "        start_idx = i + 1\n",
    "\n",
    "    start_idx = 0\n",
    "    for i in range(len(tr)-1):\n",
    "        color = \"blue\"\n",
    "        if mask1[i] == 0:\n",
    "            mlt.plot(y[start_idx:i+2],tr[start_idx:i+2], color=color)\n",
    "        elif mask1[i] == 1:\n",
    "            color = 'yellow'\n",
    "            mlt.plot(y[start_idx:i+2],tr[start_idx:i+2], color=color, linestyle='--')\n",
    "        start_idx = i + 1\n",
    "\n",
    "\n",
    "    mlt.suptitle('Gan prediction on training dataset')\n",
    "    mlt.ylabel('Energy Consumption in Kwh')\n",
    "    mlt.legend()\n",
    "    mlt.savefig(path)\n",
    "    mlt.show()"
   ]
  },
  {
   "cell_type": "code",
   "execution_count": 1,
   "metadata": {},
   "outputs": [],
   "source": [
    "def plot_full_dataset(real_dataset, gen_dataset, startindex, endindex, path, col):\n",
    "    tr = real_dataset[startindex:endindex, col]\n",
    "    te = gen_dataset[startindex:endindex, col]\n",
    "    mlt.figure(figsize=(20, 6))\n",
    "    mlt.suptitle('Gan prediction on test dataset')\n",
    "    mlt.ylabel('Energy Consumption in Kwh')\n",
    "    mlt.plot(tr, label='real')\n",
    "    mlt.plot(te, label='gen')\n",
    "    mlt.legend()\n",
    "    mlt.savefig(path)\n",
    "    mlt.show()"
   ]
  },
  {
   "cell_type": "code",
   "execution_count": 4,
   "metadata": {},
   "outputs": [],
   "source": [
    "def compare_predicted_dataset(real_dataset, gen_dataset_mogrifier, gen_dataset_bilstm, gen_dataset_lstm, startindex, endindex, path, col):\n",
    "    tr = real_dataset[startindex:endindex, col]\n",
    "    te1 = gen_dataset_mogrifier[startindex:endindex, col]\n",
    "    te2 = gen_dataset_bilstm[startindex:endindex, col]\n",
    "    te3 = gen_dataset_lstm[startindex:endindex, col]\n",
    "    mlt.figure(figsize=(20, 10))\n",
    "    mlt.suptitle('Gan prediction on test dataset')\n",
    "    mlt.ylabel('Energy Consumption in Kwh')\n",
    "    mlt.plot(tr, label='True value', marker='x')\n",
    "    mlt.plot(te1, label='Mogrifier', marker='x')\n",
    "    mlt.plot(te2, label='Bilstm', marker='x')\n",
    "    mlt.plot(te3, label='lstm', marker='x')\n",
    "    mlt.legend()\n",
    "    mlt.savefig(path)\n",
    "    mlt.show()"
   ]
  },
  {
   "cell_type": "code",
   "execution_count": 16,
   "metadata": {},
   "outputs": [],
   "source": [
    "# df = pd.read_csv(\"Data/Processed/acn_data_with_zero.csv\")\n",
    "\n",
    "# plot_acf(df['Energy'], lags=100)  # Set the number of lags to display\n",
    "# mlt.title('Autocorrelation Plot using statsmodels.graphics.tsaplots.plot_acf')\n",
    "# mlt.show()"
   ]
  },
  {
   "cell_type": "code",
   "execution_count": 17,
   "metadata": {},
   "outputs": [],
   "source": [
    "# df = pd.read_csv(\"Data/Processed/boulder_data_with_zero.csv\")\n",
    "# df = df.loc[(df['Start'] >= '2018-01-02 00:00:00') & (df['Start'] <= '2020-12-32 21:00:00')]\n",
    "# df.drop(columns=['Start'], inplace=True)\n",
    "\n",
    "# df2 = pd.read_csv(\"Data/Processed/acn_data_with_zero.csv\")\n",
    "# df2 = df2.loc[(df2['Start'] >= '2018-01-02 00:00:00') & (df2['Start'] <= '2020-12-32 21:00:00')]\n",
    "# df2.drop(columns=['Start'], inplace=True)\n",
    "\n",
    "# scaler = MinMaxScaler(feature_range=(0,1))\n",
    "# df = scaler.fit_transform(df)\n",
    "# df = pd.DataFrame(df, columns=['Day of week', 'Energy', 'Week Day', 'Year', 'Month', 'Day of month'])\n",
    "# tr = df['Energy'][:50000].reset_index(drop=True)\n",
    "\n",
    "# scaler = MinMaxScaler(feature_range=(0,1))\n",
    "# df2 = scaler.fit_transform(df2)\n",
    "# df2 = pd.DataFrame(df2, columns=['Day of week', 'Energy', 'Week Day', 'Year', 'Month', 'Day of month'])\n",
    "# tr2 = df2['Energy'][:50000].reset_index(drop=True)\n",
    "\n",
    "# mlt.figure(figsize=(20, 6))\n",
    "# mlt.suptitle('Gan prediction on test dataset')\n",
    "# mlt.ylabel('Energy Consumption in Kwh')\n",
    "# mlt.plot(tr, label='Boulder')\n",
    "# mlt.plot(tr2, label='Acn')\n",
    "# # mlt.plot(tr3, label='Dundee')\n",
    "# mlt.legend()\n",
    "# mlt.show()"
   ]
  },
  {
   "cell_type": "code",
   "execution_count": 18,
   "metadata": {},
   "outputs": [],
   "source": [
    "# df.describe()"
   ]
  },
  {
   "cell_type": "code",
   "execution_count": 19,
   "metadata": {},
   "outputs": [],
   "source": [
    "# data1 = pd.read_csv(\"Data/Processed/acn_data_with_zero.csv\")\n",
    "# data2 = pd.read_csv(\"Data/Processed/palo_alto_data_with_zero.csv\")\n",
    "# data1 = data1.loc[data1['Start'] > '2018-01-01 23:00:00']\n",
    "# data2 = data2.loc[(data2['Start'] <= '2018-01-01 23:00:00') & (data2['Start'] >= '2016-01-01 00:00:00')]\n",
    "# df = pd.concat([data1, data2], axis=0).reset_index(drop=True)\n",
    "# df['Sum'] = df.groupby(pd.to_datetime(df['Start']).dt.date)['Energy'].cumsum()\n",
    "# df.drop(columns=['Start'], inplace=True)\n",
    "# tr = df['Energy'][4000:4500]\n",
    "# mlt.figure(figsize=(20, 6))\n",
    "# mlt.suptitle('Gan prediction on test dataset')\n",
    "# mlt.ylabel('Energy Consumption in Kwh')\n",
    "# mlt.plot(tr, label='Boulder')\n",
    "# # mlt.plot(tr3, label='Dundee')\n",
    "# mlt.legend()\n",
    "# mlt.show()"
   ]
  },
  {
   "cell_type": "code",
   "execution_count": null,
   "metadata": {},
   "outputs": [],
   "source": []
  }
 ],
 "metadata": {
  "kernelspec": {
   "display_name": "base",
   "language": "python",
   "name": "python3"
  },
  "language_info": {
   "codemirror_mode": {
    "name": "ipython",
    "version": 3
   },
   "file_extension": ".py",
   "mimetype": "text/x-python",
   "name": "python",
   "nbconvert_exporter": "python",
   "pygments_lexer": "ipython3",
   "version": "3.9.18"
  }
 },
 "nbformat": 4,
 "nbformat_minor": 2
}
