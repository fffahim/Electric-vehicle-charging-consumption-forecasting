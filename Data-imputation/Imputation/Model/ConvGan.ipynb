{
 "cells": [
  {
   "cell_type": "code",
   "execution_count": 17,
   "metadata": {},
   "outputs": [],
   "source": [
    "import torch\n",
    "import torch.nn as nn\n",
    "import torch.optim as optim\n",
    "\n",
    "class ConvGenerator(nn.Module):\n",
    "    def __init__(self, input_size, hidden_size, output_size):\n",
    "        super(ConvGenerator, self).__init__()\n",
    "\n",
    "        self.lstm1 = nn.LSTM(input_size=input_size, hidden_size=hidden_size, batch_first=True)\n",
    "        self.batchNorm1 = nn.BatchNorm1d(hidden_size)\n",
    "\n",
    "        self.linear1 = nn.Linear(hidden_size, hidden_size)\n",
    "        self.batchNorm2 = nn.BatchNorm1d(hidden_size)\n",
    "        \n",
    "        self.lstm2 = nn.LSTM(input_size=input_size, hidden_size=hidden_size, batch_first=True)\n",
    "        self.batchNorm3 = nn.BatchNorm1d(hidden_size)\n",
    "\n",
    "        self.linear2 = nn.Linear(hidden_size, output_size)\n",
    "        self.activation = nn.ReLU()\n",
    "\n",
    "    def forward(self, x, z):\n",
    "        output, (h, c) = self.lstm1(x)\n",
    "        h = torch.transpose(h, 1, 2)\n",
    "        h = self.batchNorm1(h)\n",
    "        h = torch.transpose(h, 1, 2)\n",
    "\n",
    "        h = self.linear1(h)\n",
    "        # h = torch.transpose(h, 1, 2)\n",
    "        # h = self.batchNorm2(h)\n",
    "        # h = torch.transpose(h, 1, 2)\n",
    "\n",
    "        output, _ = self.lstm2(z, (h, c))\n",
    "        output = torch.transpose(output, 1, 2)\n",
    "        output = self.batchNorm3(output)\n",
    "        output = torch.transpose(output, 1, 2)\n",
    "\n",
    "        output = self.linear2(output)\n",
    "        \n",
    "        return self.activation(output)\n"
   ]
  },
  {
   "cell_type": "code",
   "execution_count": 16,
   "metadata": {},
   "outputs": [],
   "source": [
    "class ConvDiscriminator(nn.Module):\n",
    "    def __init__(self, input_size, hidden_size):\n",
    "        super(ConvDiscriminator, self).__init__()\n",
    "\n",
    "        self.lstm1 = nn.LSTM(input_size=input_size, hidden_size=hidden_size, batch_first=True)\n",
    "        self.batchNorm1 = nn.BatchNorm1d(hidden_size)\n",
    "\n",
    "        self.linear1 = nn.Linear(hidden_size, 1)\n",
    "        self.activation = nn.Sigmoid()\n",
    "\n",
    "    def forward(self, x):\n",
    "        output, _ = self.lstm1(x)\n",
    "        output = torch.transpose(output, 1, 2)\n",
    "        output = self.batchNorm1(output)\n",
    "        output = torch.transpose(output, 1, 2)\n",
    "\n",
    "        output = self.linear1(output[:, -1, :])\n",
    "        \n",
    "        return self.activation(output)\n"
   ]
  },
  {
   "cell_type": "code",
   "execution_count": null,
   "metadata": {},
   "outputs": [],
   "source": []
  }
 ],
 "metadata": {
  "kernelspec": {
   "display_name": "base",
   "language": "python",
   "name": "python3"
  },
  "language_info": {
   "codemirror_mode": {
    "name": "ipython",
    "version": 3
   },
   "file_extension": ".py",
   "mimetype": "text/x-python",
   "name": "python",
   "nbconvert_exporter": "python",
   "pygments_lexer": "ipython3",
   "version": "3.9.18"
  }
 },
 "nbformat": 4,
 "nbformat_minor": 2
}
