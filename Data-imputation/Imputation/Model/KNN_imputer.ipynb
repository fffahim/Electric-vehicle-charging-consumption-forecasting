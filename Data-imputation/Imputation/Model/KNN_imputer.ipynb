{
 "cells": [
  {
   "cell_type": "code",
   "execution_count": 88,
   "metadata": {},
   "outputs": [],
   "source": [
    "from sklearn.impute import KNNImputer\n",
    "import numpy as np\n",
    "import math\n",
    "import pandas as pd\n",
    "from sklearn.metrics import mean_squared_error\n",
    "import torch.nn as nn"
   ]
  },
  {
   "cell_type": "code",
   "execution_count": 91,
   "metadata": {},
   "outputs": [],
   "source": [
    "class KnnImputer(nn.Module):\n",
    "    def __init__(self):\n",
    "        super(KnnImputer, self).__init__()\n",
    "\n",
    "    def forward(self, x, n_neighbors):\n",
    "        imputer = KNNImputer(n_neighbors = n_neighbors)\n",
    "        imputed = imputer.fit_transform(x)\n",
    "\n",
    "        return imputed\n"
   ]
  },
  {
   "cell_type": "code",
   "execution_count": 87,
   "metadata": {},
   "outputs": [],
   "source": [
    "# Function to impute missing values using KNNImputer\n",
    "def impute_missing_values(data, k):\n",
    "    imputer = KNNImputer(n_neighbors=k)\n",
    "    imputed_data = imputer.fit_transform(data)\n",
    "    return pd.DataFrame(imputed_data, columns=data.columns)\n",
    "\n",
    "\n",
    "def get_optimum_k(real_data, missing_data):\n",
    "    k_max = math.sqrt(len(real_data))\n",
    "    time_series_data = missing_data.copy()\n",
    "\n",
    "    k_values = range(1, int(k_max))  # trying k from 1 to 10\n",
    "    mse_scores = []\n",
    "\n",
    "    for k in k_values:\n",
    "        imputed_data = impute_missing_values(time_series_data, k)\n",
    "        true_values = real_data['Energy']\n",
    "        imputed_values = imputed_data['Energy']\n",
    "        mse = mean_squared_error(true_values, imputed_values)\n",
    "        mse_scores.append(mse)\n",
    "\n",
    "    optimal_k = k_values[np.argmin(mse_scores)]\n",
    "\n",
    "    return optimal_k\n"
   ]
  },
  {
   "cell_type": "code",
   "execution_count": null,
   "metadata": {},
   "outputs": [],
   "source": []
  }
 ],
 "metadata": {
  "kernelspec": {
   "display_name": "base",
   "language": "python",
   "name": "python3"
  },
  "language_info": {
   "codemirror_mode": {
    "name": "ipython",
    "version": 3
   },
   "file_extension": ".py",
   "mimetype": "text/x-python",
   "name": "python",
   "nbconvert_exporter": "python",
   "pygments_lexer": "ipython3",
   "version": "3.9.18"
  }
 },
 "nbformat": 4,
 "nbformat_minor": 2
}
