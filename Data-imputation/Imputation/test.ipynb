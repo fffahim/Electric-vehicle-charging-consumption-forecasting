{
 "cells": [
  {
   "cell_type": "code",
   "execution_count": 9,
   "metadata": {},
   "outputs": [],
   "source": [
    "def test_model(model, real_data_test, missing_data_test, mask_test, loss_function, step_per_epoch):\n",
    "    model.eval()\n",
    "    test_loss = []\n",
    "    # batch_size = real_data_test.shape[0]\n",
    "    # print(batch_size)\n",
    "    real_dataset = torch.empty((0, lag_size, input_size), dtype=torch.float32).to(device)\n",
    "    gen_dataset = torch.empty((0, lag_size, input_size), dtype=torch.float32).to(device)\n",
    "    mask = torch.empty((0, lag_size, input_size), dtype=torch.float32).to(device)\n",
    "    with torch.no_grad():\n",
    "        count = 0\n",
    "        for step in range(step_per_epoch):\n",
    "            real_data, real_label = gen_real_batch(batch_size, count, real_data_test)\n",
    "\n",
    "            z_input, mask_input = gen_z_input(batch_size, count, missing_data_test, mask_test)\n",
    "            \n",
    "            imputed_results = model(z_input)\n",
    "            L2 = torch.sum((real_data - imputed_results)**2)\n",
    "            loss = loss_function(imputed_results, real_data) + L2\n",
    "            test_loss.append(loss.item())\n",
    "\n",
    "            real_dataset = torch.cat([real_dataset, real_data], dim=0)\n",
    "            gen_dataset = torch.cat([gen_dataset, imputed_results], dim=0)\n",
    "            mask = torch.cat([mask, mask_input], dim=0)\n",
    "\n",
    "            count += 1\n",
    "\n",
    "    return real_dataset, gen_dataset, test_loss, mask\n"
   ]
  },
  {
   "cell_type": "code",
   "execution_count": null,
   "metadata": {},
   "outputs": [],
   "source": []
  }
 ],
 "metadata": {
  "kernelspec": {
   "display_name": "base",
   "language": "python",
   "name": "python3"
  },
  "language_info": {
   "codemirror_mode": {
    "name": "ipython",
    "version": 3
   },
   "file_extension": ".py",
   "mimetype": "text/x-python",
   "name": "python",
   "nbconvert_exporter": "python",
   "pygments_lexer": "ipython3",
   "version": "3.9.18"
  }
 },
 "nbformat": 4,
 "nbformat_minor": 2
}
