{
 "cells": [
  {
   "cell_type": "code",
   "execution_count": 2,
   "metadata": {},
   "outputs": [],
   "source": [
    "import numpy as np\n",
    "import pandas as pd\n",
    "import torch\n",
    "import torch.nn as nn\n",
    "import matplotlib.pyplot as mlt\n",
    "import seaborn as sp\n",
    "from torch.autograd import Variable\n",
    "from torch import autograd\n",
    "from datetime import datetime\n",
    "import matplotlib.pyplot as plt\n",
    "from datetime import timedelta\n",
    "import sys\n",
    "import os\n",
    "from sklearn.preprocessing import MinMaxScaler\n",
    "from sklearn.metrics import mean_absolute_error, mean_squared_error, mean_squared_log_error\n",
    "from scipy.stats import ks_2samp\n",
    "from statsmodels.graphics.tsaplots import plot_acf"
   ]
  },
  {
   "cell_type": "markdown",
   "metadata": {},
   "source": [
    "# Boulder"
   ]
  },
  {
   "cell_type": "code",
   "execution_count": 157,
   "metadata": {},
   "outputs": [],
   "source": [
    "df = pd.read_csv('../Data/Unprocessed_raw_data/Boulder/boulder.csv')\n",
    "\n",
    "df['Start'] = pd.to_datetime(df.loc[:,'Start_Date___Time']).dt.strftime('%Y-%m-%d %H:%M:%S')\n",
    "df['End'] = pd.to_datetime(df.loc[:,'End_Date___Time']).dt.strftime('%Y-%m-%d %H:%M:%S')\n",
    "df['Charging duration'] = (pd.to_timedelta(df.loc[:,'Charging_Time__hh_mm_ss_']).dt.total_seconds()) / 60\n",
    "df['Parking duration'] = (pd.to_timedelta(df.loc[:,'Total_Duration__hh_mm_ss_']).dt.total_seconds()) / 60\n",
    "\n",
    "df.drop(columns=['Start_Date___Time', 'End_Date___Time', 'Charging_Time__hh_mm_ss_', 'Total_Duration__hh_mm_ss_'], inplace=True)\n",
    "df = df[(df['Energy__kWh_'] > 0) & (df['Energy__kWh_'] < 100)]\n",
    "\n",
    "df = df[(df['Charging duration'] > 0) & (df['Charging duration'] < 1440)]\n",
    "df = df[(df['Parking duration'] > 0) & (df['Parking duration'] < 1440)]\n",
    "\n",
    "df.to_csv('../Data/Unprocessed_raw_data/boulder/boulder_processed.csv', index=False)"
   ]
  },
  {
   "cell_type": "markdown",
   "metadata": {},
   "source": [
    "# Palo Alto"
   ]
  },
  {
   "cell_type": "code",
   "execution_count": 158,
   "metadata": {},
   "outputs": [
    {
     "name": "stderr",
     "output_type": "stream",
     "text": [
      "C:\\Users\\Belal Mahmud Fahim\\AppData\\Local\\Temp\\ipykernel_15164\\124929456.py:1: DtypeWarning: Columns (29,30,32) have mixed types. Specify dtype option on import or set low_memory=False.\n",
      "  df = pd.read_csv('../Data/Unprocessed_raw_data/palo_alto/palo_alto.csv')\n"
     ]
    }
   ],
   "source": [
    "df = pd.read_csv('../Data/Unprocessed_raw_data/palo_alto/palo_alto.csv')\n",
    "\n",
    "df['Start'] = pd.to_datetime(df.loc[:,'Start Date']).dt.strftime('%Y-%m-%d %H:%M:%S')\n",
    "\n",
    "df['End Date'] = pd.to_datetime(df.loc[:,'End Date'], errors='coerce')\n",
    "df = df.dropna(subset=['End Date'])\n",
    "df['End'] = df.loc[:,'End Date'].dt.strftime('%Y-%m-%d %H:%M:%S')\n",
    "df['Charging duration'] = (pd.to_timedelta(df.loc[:,'Charging Time (hh:mm:ss)']).dt.total_seconds()) / 60\n",
    "df['Parking duration'] = (pd.to_timedelta(df.loc[:,'Total Duration (hh:mm:ss)']).dt.total_seconds()) / 60\n",
    "\n",
    "df.drop(columns=['Start Date', 'End Date', 'Charging Time (hh:mm:ss)', 'Total Duration (hh:mm:ss)'], inplace=True)\n",
    "df = df[(df['Energy (kWh)'] > 0) & (df['Energy (kWh)'] < 100)]\n",
    "\n",
    "df = df[(df['Charging duration'] > 0) & (df['Charging duration'] < 1440)]\n",
    "df = df[(df['Parking duration'] > 0) & (df['Parking duration'] < 1440)]\n",
    "\n",
    "df.to_csv('../Data/Unprocessed_raw_data/palo_alto/palo_alto_processed.csv', index=False)"
   ]
  },
  {
   "cell_type": "markdown",
   "metadata": {},
   "source": [
    "# Dundee"
   ]
  },
  {
   "cell_type": "code",
   "execution_count": 167,
   "metadata": {},
   "outputs": [
    {
     "name": "stderr",
     "output_type": "stream",
     "text": [
      "C:\\Users\\Belal Mahmud Fahim\\AppData\\Local\\Temp\\ipykernel_15164\\2246729812.py:8: UserWarning: Could not infer format, so each element will be parsed individually, falling back to `dateutil`. To ensure parsing is consistent and as-expected, please specify a format.\n",
      "  df['Start'] = pd.to_datetime(df['Start Date'] + ' ' + df['Start Time']).dt.strftime('%Y-%m-%d %H:%M:%S')\n",
      "C:\\Users\\Belal Mahmud Fahim\\AppData\\Local\\Temp\\ipykernel_15164\\2246729812.py:9: UserWarning: Could not infer format, so each element will be parsed individually, falling back to `dateutil`. To ensure parsing is consistent and as-expected, please specify a format.\n",
      "  df['End'] = pd.to_datetime(df['End Date'] + ' ' + df['End Time']).dt.strftime('%Y-%m-%d %H:%M:%S')\n"
     ]
    }
   ],
   "source": [
    "df1 = pd.read_csv('../Data/Unprocessed_raw_data/dundee/dundee_1.csv')\n",
    "df2 = pd.read_csv('../Data/Unprocessed_raw_data/dundee/dundee_2.csv')\n",
    "df3 = pd.read_csv('../Data/Unprocessed_raw_data/dundee/dundee_3.csv')\n",
    "df4 = pd.read_csv('../Data/Unprocessed_raw_data/dundee/dundee_4.csv')\n",
    "\n",
    "df = pd.concat([df1, df2, df3, df4], axis = 0).reset_index(drop=True)\n",
    "\n",
    "df['Start'] = pd.to_datetime(df['Start Date'] + ' ' + df['Start Time']).dt.strftime('%Y-%m-%d %H:%M:%S')\n",
    "df['End'] = pd.to_datetime(df['End Date'] + ' ' + df['End Time']).dt.strftime('%Y-%m-%d %H:%M:%S')\n",
    "df['Charging duration'] = (pd.to_datetime(df['End']) - pd.to_datetime(df['Start'])).dt.total_seconds() / 60\n",
    "\n",
    "df.drop(columns=['Start Date', 'End Date', 'Start Time', 'End Time'], inplace=True)\n",
    "df = df[(df['Total kWh'] > 0) & (df['Total kWh'] < 100)]\n",
    "\n",
    "df = df[(df['Charging duration'] > 0) & (df['Charging duration'] < 1440)].reset_index(drop=True)\n",
    "\n",
    "df.to_csv('../Data/Unprocessed_raw_data/dundee/dundee_processed.csv', index=False)"
   ]
  },
  {
   "cell_type": "markdown",
   "metadata": {},
   "source": [
    "# Perth"
   ]
  },
  {
   "cell_type": "code",
   "execution_count": 199,
   "metadata": {},
   "outputs": [
    {
     "name": "stderr",
     "output_type": "stream",
     "text": [
      "C:\\Users\\Belal Mahmud Fahim\\AppData\\Local\\Temp\\ipykernel_15164\\3990627045.py:7: UserWarning: Could not infer format, so each element will be parsed individually, falling back to `dateutil`. To ensure parsing is consistent and as-expected, please specify a format.\n",
      "  df['Start'] = pd.to_datetime(df['Start Date'] + ' ' + df['Start Time']).dt.strftime('%Y-%m-%d %H:%M:%S')\n",
      "C:\\Users\\Belal Mahmud Fahim\\AppData\\Local\\Temp\\ipykernel_15164\\3990627045.py:8: UserWarning: Could not infer format, so each element will be parsed individually, falling back to `dateutil`. To ensure parsing is consistent and as-expected, please specify a format.\n",
      "  df['End'] = pd.to_datetime(df['End Date'] + ' ' + df['End Time']).dt.strftime('%Y-%m-%d %H:%M:%S')\n"
     ]
    }
   ],
   "source": [
    "df1 = pd.read_csv('../Data/Unprocessed_raw_data/perth/perth_1.csv')\n",
    "df2 = pd.read_csv('../Data/Unprocessed_raw_data/perth/perth_2.csv')\n",
    "df3 = pd.read_csv('../Data/Unprocessed_raw_data/perth/perth_3.csv')\n",
    "\n",
    "df = pd.concat([df1, df2, df3], axis = 0).reset_index(drop=True)\n",
    "\n",
    "df['Start'] = pd.to_datetime(df['Start Date'] + ' ' + df['Start Time']).dt.strftime('%Y-%m-%d %H:%M:%S')\n",
    "df['End'] = pd.to_datetime(df['End Date'] + ' ' + df['End Time']).dt.strftime('%Y-%m-%d %H:%M:%S')\n",
    "df['Charging duration'] = (pd.to_datetime(df['End']) - pd.to_datetime(df['Start'])).dt.total_seconds() / 60\n",
    "\n",
    "df.drop(columns=['Start Date', 'End Date', 'Start Time', 'End Time'], inplace=True)\n",
    "df = df[(df['Total kWh'] > 0) & (df['Total kWh'] < 100)]\n",
    "\n",
    "df = df[(df['Charging duration'] > 0) & (df['Charging duration'] < 1440)].reset_index(drop=True)\n",
    "\n",
    "df.to_csv('../Data/Unprocessed_raw_data/perth/perth_processed.csv', index=False)"
   ]
  },
  {
   "cell_type": "code",
   "execution_count": 18,
   "metadata": {},
   "outputs": [],
   "source": [
    "df = pd.read_csv('../Data/Unprocessed_raw_data/boulder/boulder_processed.csv')"
   ]
  },
  {
   "cell_type": "code",
   "execution_count": 20,
   "metadata": {},
   "outputs": [
    {
     "data": {
      "text/plain": [
       "(27,)"
      ]
     },
     "execution_count": 20,
     "metadata": {},
     "output_type": "execute_result"
    }
   ],
   "source": [
    "df.groupby(df['Station_Name'])['Energy__kWh_'].sum().shape"
   ]
  },
  {
   "cell_type": "code",
   "execution_count": null,
   "metadata": {},
   "outputs": [],
   "source": []
  }
 ],
 "metadata": {
  "kernelspec": {
   "display_name": "base",
   "language": "python",
   "name": "python3"
  },
  "language_info": {
   "codemirror_mode": {
    "name": "ipython",
    "version": 3
   },
   "file_extension": ".py",
   "mimetype": "text/x-python",
   "name": "python",
   "nbconvert_exporter": "python",
   "pygments_lexer": "ipython3",
   "version": "3.9.18"
  }
 },
 "nbformat": 4,
 "nbformat_minor": 2
}
