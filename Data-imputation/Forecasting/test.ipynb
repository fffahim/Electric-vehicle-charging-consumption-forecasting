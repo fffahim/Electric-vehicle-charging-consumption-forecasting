{
 "cells": [
  {
   "cell_type": "code",
   "execution_count": 1,
   "metadata": {},
   "outputs": [],
   "source": [
    "import numpy as np\n",
    "import pandas as pd\n",
    "import torch\n",
    "import torch.nn as nn\n",
    "import matplotlib.pyplot as mlt\n",
    "import seaborn as sp\n",
    "from torch.autograd import Variable\n",
    "from torch import autograd\n",
    "from datetime import datetime\n",
    "import matplotlib.pyplot as plt\n",
    "import argparse\n",
    "from datetime import timedelta\n",
    "import torch.autograd.functional as F"
   ]
  },
  {
   "cell_type": "code",
   "execution_count": 1,
   "metadata": {},
   "outputs": [],
   "source": [
    "def test_model(model, real_data_test, data_label_test, loss_function, step_per_epoch):\n",
    "    model.eval()\n",
    "    test_loss = []\n",
    "    real_dataset = torch.empty((0, future_step, input_size), dtype=torch.float32).to(device)\n",
    "    gen_dataset = torch.empty((0, future_step, input_size), dtype=torch.float32).to(device)\n",
    "\n",
    "    with torch.no_grad():\n",
    "        count = 0\n",
    "        for step in range(step_per_epoch):\n",
    "            real_data = gen_batch_forecasting(batch_size, count, real_data_test)\n",
    "            real_label = gen_batch_forecasting(batch_size, count, data_label_test)\n",
    "            \n",
    "            generated_samples = model(real_data)\n",
    "            L2 = torch.sum((real_label - generated_samples)**2)\n",
    "            loss = loss_function(generated_samples, real_label) + L2\n",
    "            test_loss.append(loss.item())\n",
    "\n",
    "            real_dataset = torch.cat([real_dataset, real_label], dim=0)\n",
    "            gen_dataset = torch.cat([gen_dataset, generated_samples], dim=0)\n",
    "\n",
    "            count += 1\n",
    "\n",
    "    return real_dataset, gen_dataset, test_loss\n"
   ]
  },
  {
   "cell_type": "code",
   "execution_count": null,
   "metadata": {},
   "outputs": [],
   "source": []
  }
 ],
 "metadata": {
  "kernelspec": {
   "display_name": "base",
   "language": "python",
   "name": "python3"
  },
  "language_info": {
   "codemirror_mode": {
    "name": "ipython",
    "version": 3
   },
   "file_extension": ".py",
   "mimetype": "text/x-python",
   "name": "python",
   "nbconvert_exporter": "python",
   "pygments_lexer": "ipython3",
   "version": "3.9.18"
  }
 },
 "nbformat": 4,
 "nbformat_minor": 2
}
